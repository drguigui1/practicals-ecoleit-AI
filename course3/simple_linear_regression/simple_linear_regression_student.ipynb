{
  "cells": [
    {
      "cell_type": "markdown",
      "metadata": {
        "id": "TyzSVbvMh0O2"
      },
      "source": [
        "# Simple linear regression from scratch\n",
        "\n",
        "In this practical, we embark on an exciting journey to build a Simple Linear Regression model from scratch. Our goal is to peel back the layers of one of the most fundamental algorithms in machine learning and statistics, providing a hands-on experience that bridges theory with practical application. By constructing this model step by step, we aim to gain a deeper understanding of its mechanics and appreciate the elegance of linear regression as a tool for making predictions. Whether you're a student, a budding data scientist, or simply curious about machine learning, this project is designed to demystify the process of creating a predictive model and lay a solid foundation for further exploration in the field.\n",
        "\n"
      ]
    },
    {
      "cell_type": "markdown",
      "metadata": {
        "id": "PZ5MbQNpi0W4"
      },
      "source": [
        "## About the data\n",
        "\n",
        "In this practical, we will be working with a dataset that encapsulates the relationship between marketing budgets allocated to TV advertisements and the corresponding sales outcomes. The dataset contains two primary columns:\n",
        "\n",
        "\n",
        "**TV**: This column represents the marketing budget allocated to TV advertisements for a particular product or service. It reflects the investment made by a company in television-based marketing campaigns over a specific period.\n",
        "\n",
        "\n",
        "**Sales**: This column records the number of sales achieved following the corresponding TV advertisement budget. It is a direct indicator of the effectiveness of TV marketing expenditures in driving sales for the product or service."
      ]
    },
    {
      "cell_type": "markdown",
      "metadata": {
        "id": "N5d7fl6eiC2R"
      },
      "source": [
        "## What is Simple Linear Regression?\n",
        "\n",
        "Simple Linear Regression is a statistical method that allows us to understand and predict the relationship between two variables. Specifically, it focuses on the case where we have one independent variable (X) and one dependent variable (Y), hence the term 'simple'. The core idea is to find the best-fitting straight line through the data points that minimizes the differences between the observed values and the values predicted by the model. This line can then be used to predict future outcomes based on new inputs of the independent variable."
      ]
    },
    {
      "cell_type": "markdown",
      "metadata": {
        "id": "js9PymODirqb"
      },
      "source": [
        "Formulas in Simple Linear Regression\n",
        "In Simple Linear Regression, the relationship between the independent variable (X) and the dependent variable (Y) is represented by the following equation:\n",
        "\n",
        "$$\n",
        "Y = β0 + β1X\n",
        "$$\n",
        "\n",
        "Y is the dependent variable,\n",
        "X is the independent variable,\n",
        "β0 is the intercept of the regression line on the Y-axis,\n",
        "β1 is the slope of the regression line, representing the change in Y for a unit change in X,\n",
        "\n",
        "\n",
        "The aim of Simple Linear Regression is to find the values of β0 and β1 that minimize the sum of the squared differences between the observed values and the values predicted by our model. This method is known as Ordinary Least Squares (OLS). The formulas for calculating β0 and β1 are:\n",
        "\n",
        "$$\n",
        "β1 = \\frac{\\sum ((X_i - \\bar{X})(Y_i - \\bar{Y}))}{\\sum ((X_i - \\bar{X})^2)}\n",
        "$$\n",
        "\n",
        "$$\n",
        "β0 = \\bar{Y} - β1\\bar{X}\n",
        "$$\n",
        "\n",
        "where X̄ and Ȳ are the mean values of the independent and dependent variables, respectively.\n",
        "\n",
        "\n",
        "By applying these formulas, we can estimate the coefficients of the regression line that best fits our data. This enables us to make predictions about the dependent variable using new inputs for the independent variable."
      ]
    },
    {
      "cell_type": "markdown",
      "metadata": {
        "id": "Rxs7diZSmj4_"
      },
      "source": [
        "## Let's start"
      ]
    },
    {
      "cell_type": "markdown",
      "metadata": {
        "id": "Z5i_AiA4mpUI"
      },
      "source": [
        "Load the dataset from the file `data.csv`"
      ]
    },
    {
      "cell_type": "code",
      "execution_count": null,
      "metadata": {},
      "outputs": [],
      "source": [
        "# FIXME"
      ]
    },
    {
      "cell_type": "markdown",
      "metadata": {
        "id": "AYSwYlYImyuh"
      },
      "source": [
        "Display the first 3 rows"
      ]
    },
    {
      "cell_type": "code",
      "execution_count": null,
      "metadata": {},
      "outputs": [],
      "source": [
        "# FIXME"
      ]
    },
    {
      "cell_type": "markdown",
      "metadata": {
        "id": "f_8AiTgxm3TK"
      },
      "source": [
        "Display the last 3 rows"
      ]
    },
    {
      "cell_type": "code",
      "execution_count": null,
      "metadata": {},
      "outputs": [],
      "source": [
        "# FIXME"
      ]
    },
    {
      "cell_type": "markdown",
      "metadata": {
        "id": "6cjQC-mWm8bS"
      },
      "source": [
        "Display some informations about the dataset, use the functions `info` and `describe`"
      ]
    },
    {
      "cell_type": "code",
      "execution_count": null,
      "metadata": {},
      "outputs": [],
      "source": [
        "# FIXME"
      ]
    },
    {
      "cell_type": "markdown",
      "metadata": {
        "id": "J7Ueox_0nLkj"
      },
      "source": [
        "Now plot the dataset. You can use plotly if you want or direcly the `plot` function from pandas.\n",
        "\n",
        "We want to put the `TV` column on the X axis and `Sales` column on the Y axis.\n",
        "\n",
        "Use a scatter plot"
      ]
    },
    {
      "cell_type": "code",
      "execution_count": null,
      "metadata": {},
      "outputs": [],
      "source": [
        "# FIXME"
      ]
    },
    {
      "cell_type": "markdown",
      "metadata": {
        "id": "Q7ewYCTGnh7j"
      },
      "source": [
        "What can you conclude from the plot ?\n",
        "\n",
        "Do we have a linear relation between our variables ?"
      ]
    },
    {
      "cell_type": "code",
      "execution_count": null,
      "metadata": {
        "id": "j0uPuZkRnbRR"
      },
      "outputs": [],
      "source": [
        "# FIXME"
      ]
    },
    {
      "cell_type": "markdown",
      "metadata": {
        "id": "o3M_6GE8n4GS"
      },
      "source": [
        "### Now let's build the model from scratch"
      ]
    },
    {
      "cell_type": "markdown",
      "metadata": {
        "id": "k-m4HcfjrOf6"
      },
      "source": [
        "Now that we have explored our dataset and understood the relationship between the TV marketing budget and sales outcomes, we are ready to build our Simple Linear Regression model. This model will help us predict sales based on the TV advertisement budget. Unlike using pre-built functions from libraries, building the model from scratch will provide us with deeper insights into the underlying mathematical principles."
      ]
    },
    {
      "cell_type": "code",
      "execution_count": null,
      "metadata": {},
      "outputs": [],
      "source": [
        "import numpy as np\n",
        "\n",
        "class MySimpleLinearRegression:\n",
        "    def __init__(self):\n",
        "        '''\n",
        "        Initialize the parameters of the simple Linear regression: beta0 and beta1\n",
        "        '''\n",
        "        # FIXME\n",
        "        pass\n",
        "\n",
        "    def fit(self, x: np.array, y: np.array):\n",
        "        '''\n",
        "        Function that is used to learn the beta parameters from the data\n",
        "\n",
        "        x: is your feature column in a numpy array.\n",
        "        y: is your label column in a numpy array. We want to predict this variable\n",
        "        '''\n",
        "        # FIXME\n",
        "        pass\n",
        "\n",
        "    def predict(self, x: float) -> float:\n",
        "        '''\n",
        "        The function that will be used to make a prediction with our learnt parameters\n",
        "        '''\n",
        "        # FIXME\n",
        "        pass"
      ]
    },
    {
      "cell_type": "markdown",
      "metadata": {
        "id": "FS0-ffpitlbW"
      },
      "source": [
        "Now train your model on the data"
      ]
    },
    {
      "cell_type": "code",
      "execution_count": 11,
      "metadata": {
        "id": "9NPMvV1trIPl"
      },
      "outputs": [],
      "source": [
        "# FIXME"
      ]
    },
    {
      "cell_type": "markdown",
      "metadata": {
        "id": "9cPkH7HQuiON"
      },
      "source": [
        "Now display the parameters beta0 and beta1"
      ]
    },
    {
      "cell_type": "code",
      "execution_count": null,
      "metadata": {},
      "outputs": [],
      "source": [
        "# FIXME"
      ]
    },
    {
      "cell_type": "markdown",
      "metadata": {
        "id": "g6q7SBiauq7A"
      },
      "source": [
        "Call the prediction function with new x values\n",
        "\n",
        "Try:\n",
        "\n",
        "x = 5\n",
        "\n",
        "x = 50\n",
        "\n",
        "x = 100\n",
        "\n",
        "x = 500\n",
        "\n",
        "x = 1000"
      ]
    },
    {
      "cell_type": "code",
      "execution_count": null,
      "metadata": {},
      "outputs": [],
      "source": [
        "# FIXME"
      ]
    },
    {
      "cell_type": "markdown",
      "metadata": {
        "id": "dBrTLRoz0BtQ"
      },
      "source": [
        "### Plot\n",
        "\n",
        "Plot the regression line on your data"
      ]
    },
    {
      "cell_type": "code",
      "execution_count": null,
      "metadata": {},
      "outputs": [],
      "source": [
        "# FIXME"
      ]
    }
  ],
  "metadata": {
    "colab": {
      "provenance": []
    },
    "kernelspec": {
      "display_name": "Python 3",
      "name": "python3"
    },
    "language_info": {
      "name": "python"
    }
  },
  "nbformat": 4,
  "nbformat_minor": 0
}
