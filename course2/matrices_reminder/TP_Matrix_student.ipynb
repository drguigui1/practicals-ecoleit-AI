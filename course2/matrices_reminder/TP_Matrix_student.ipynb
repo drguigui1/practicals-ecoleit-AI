{
 "cells": [
  {
   "cell_type": "code",
   "execution_count": 2,
   "metadata": {},
   "outputs": [],
   "source": [
    "from typing import List, Tuple"
   ]
  },
  {
   "attachments": {},
   "cell_type": "markdown",
   "metadata": {},
   "source": [
    "# TP - Matrix Operations in Python"
   ]
  },
  {
   "attachments": {},
   "cell_type": "markdown",
   "metadata": {},
   "source": [
    "## Introduction\n",
    "\n",
    "In this practical session (TP), we will explore the foundational aspects of linear algebra by coding basic matrix operations in Python.\n",
    "\n",
    "\n",
    "Understanding how to manipulate matrices is essential for various applications in engineering, computer science, data science, and many other fields.\\\n",
    "We will focus on implementing functions to perform the following operations on matrices:\n",
    "1. Addition\n",
    "2. Subtraction\n",
    "3. Multiplication\n",
    "4. Transpose\n",
    "\n",
    "Before we dive into coding these operations, let's briefly review what matrices are and why they are important:\\\n",
    "A matrix is a rectangular array of numbers arranged in **rows** and **columns**. They can represent systems of linear equations, transformations in geometry, and data in machine learning algorithms, among other things.\n",
    "\n",
    "Our goal is to implement these operations from scratch, gaining a deeper understanding of how they work under the hood.\\\n",
    "This will not only solidify your grasp of matrix operations but also enhance your problem-solving and programming skills in Python."
   ]
  },
  {
   "attachments": {},
   "cell_type": "markdown",
   "metadata": {},
   "source": [
    "## Functions to Implement"
   ]
  },
  {
   "attachments": {},
   "cell_type": "markdown",
   "metadata": {},
   "source": [
    "### 1. Matrix Addition\n",
    "\n",
    "Matrix addition is the operation of adding two matrices by adding the corresponding entries together.\\\n",
    "The function `add_matrices` should take two matrices (represented as lists of lists) as input and return their sum as a new matrix.\n",
    "\n",
    "Reminder !\\\n",
    "For matrix addition to be possible, **both matrices must have the same dimensions**.\\\n",
    "This means they must have the same **number of rows and the same number of columns**.\\\n",
    "If the dimensions do not match, the operation cannot be performed, and the function should return `None`."
   ]
  },
  {
   "attachments": {},
   "cell_type": "markdown",
   "metadata": {},
   "source": [
    "Example :\n",
    "```python\n",
    "A = [[1, 2, 3],\n",
    "     [4, 5, 6]]\n",
    "     \n",
    "B = [[7, 8, 9],\n",
    "    [10, 11, 12]]\n",
    "\n",
    "add_matrices(A, B)\n",
    "```\n",
    "\n",
    "Output :\n",
    "```python\n",
    "[[8, 10, 12],\n",
    "[14, 16, 18]]\n",
    "```"
   ]
  },
  {
   "attachments": {},
   "cell_type": "markdown",
   "metadata": {},
   "source": [
    "I'm providing you with a `pretty_print` function for matrices so you can easily inspect your results :"
   ]
  },
  {
   "cell_type": "code",
   "execution_count": 6,
   "metadata": {},
   "outputs": [],
   "source": [
    "def pretty_print_matrix(matrix: List[List[int]]):\n",
    "    \"\"\"\n",
    "    Prints a matrix in a human-readable format.\n",
    "    \n",
    "    Parameters:\n",
    "    - matrix: The matrix to print.\n",
    "    \"\"\"\n",
    "    if not matrix:\n",
    "        print(\"Empty matrix\")\n",
    "        return\n",
    "    \n",
    "    for row in matrix:\n",
    "        print(row)"
   ]
  },
  {
   "cell_type": "code",
   "execution_count": 4,
   "metadata": {},
   "outputs": [],
   "source": [
    "def add_matrices(matrix_a : List[List[int]], matrix_b: List[List[int]]) -> List[List[int]]:\n",
    "    # Check if the matrices have the same dimensions\n",
    "    # FIXME: Implement the check\n",
    "    # FIXME: Implement the addition\n",
    "    pass"
   ]
  },
  {
   "attachments": {},
   "cell_type": "markdown",
   "metadata": {},
   "source": [
    "Test your code :"
   ]
  },
  {
   "cell_type": "code",
   "execution_count": null,
   "metadata": {},
   "outputs": [],
   "source": [
    "A = [[1, 2, 3], [4, 5, 6]]\n",
    "B = [[7, 8, 9], [10, 11, 12]]\n",
    "\n",
    "result = add_matrices(A, B)\n",
    "print(\"A + B = \")\n",
    "pretty_print_matrix(result)\n",
    "\n",
    "expected_output = [[8, 10, 12], [14, 16, 18]]\n",
    "\n",
    "if result == expected_output:\n",
    "    print(\"\\nTest passed\")\n",
    "else:\n",
    "    print(\"\\nTest failed\")"
   ]
  },
  {
   "cell_type": "code",
   "execution_count": null,
   "metadata": {},
   "outputs": [],
   "source": [
    "# should fail because the matrices have different sizes\n",
    "C = [[1, 2, 3], [4, 5, 6]]\n",
    "D = [[7, 8, 9], [10, 11, 12], [13, 14, 15]]\n",
    "\n",
    "result = add_matrices(C, D)\n",
    "\n",
    "if result == None:\n",
    "    print(\"Test passed\")\n",
    "else:\n",
    "    print(\"Test failed\")"
   ]
  },
  {
   "attachments": {},
   "cell_type": "markdown",
   "metadata": {},
   "source": [
    "### 2. Matrix Subtraction\n",
    "\n",
    "Similar to addition, matrix subtraction involves subtracting the corresponding entries of two matrices. Implement the `subtract_matrices` function.\n",
    "\n",
    "Example : \n",
    "```python\n",
    "A = [[1, 2, 3],\n",
    "     [1, 5, 0]]\n",
    "\n",
    "B = [[1, 4, 9],\n",
    "    [10, 11, 1]]\n",
    "\n",
    "subtract_matrices(A, B)\n",
    "```\n",
    "\n",
    "Output :\n",
    "```python\n",
    "[[0, -2, -6],\n",
    "[-9, -6, -1]]\n",
    "```"
   ]
  },
  {
   "cell_type": "code",
   "execution_count": 9,
   "metadata": {},
   "outputs": [],
   "source": [
    "def substract_matrices(matrix_a : List[List[int]], matrix_b: List[List[int]]) -> List[List[int]]:\n",
    "    # Check if the matrices have the same dimensions\n",
    "    # FIXME: Implement the check\n",
    "    # FIXME: Implement the substraction\n",
    "\n",
    "    pass"
   ]
  },
  {
   "attachments": {},
   "cell_type": "markdown",
   "metadata": {},
   "source": [
    "Test your code :"
   ]
  },
  {
   "cell_type": "code",
   "execution_count": null,
   "metadata": {},
   "outputs": [],
   "source": [
    "A = [[1, 2, 3],\n",
    "     [1, 5, 0]]\n",
    "\n",
    "B = [[1, 4, 9],\n",
    "    [10, 11, 1]]\n",
    "\n",
    "result = substract_matrices(A, B)\n",
    "print(\"A - B = \")\n",
    "pretty_print_matrix(result)\n",
    "\n",
    "expected_output = [[0, -2, -6], [-9, -6, -1]]\n",
    "\n",
    "if result == expected_output:\n",
    "     print(\"\\nTest passed\")\n",
    "else:\n",
    "     print(\"\\nTest failed\")"
   ]
  },
  {
   "cell_type": "code",
   "execution_count": null,
   "metadata": {},
   "outputs": [],
   "source": [
    "# should fail because the matrices have different sizes\n",
    "C = [[1, 2, 3], [4, 5, 6]]\n",
    "D = [[7, 8, 9], [10, 11, 12], [13, 14, 15]]\n",
    "\n",
    "result = substract_matrices(C, D)\n",
    "\n",
    "if result == None:\n",
    "    print(\"Test passed\")\n",
    "else:\n",
    "    print(\"Test failed\")"
   ]
  },
  {
   "attachments": {},
   "cell_type": "markdown",
   "metadata": {},
   "source": [
    "### 3. Matrix Multiplication\n",
    "\n",
    "To multiply two matrices, the number of columns in the first matrix must be equal to the number of rows in the second.\\\n",
    "The `multiply_matrices` function should reflect this.\\\n",
    "The resulting matrix will have the same number of rows as the first matrix and the same number of columns as the second matrix.\n",
    "\n",
    "Example :\n",
    "```python\n",
    "A = [[1, 2, 3],\n",
    "     [4, 5, 6]]\n",
    "\n",
    "B = [[7, 8],\n",
    "    [9, 10],\n",
    "    [11, 12]]\n",
    "\n",
    "multiply_matrices(A, B)\n",
    "```\n",
    "\n",
    "Output :\n",
    "```python\n",
    "[[58, 64],\n",
    "[139, 154]]\n",
    "```"
   ]
  },
  {
   "cell_type": "code",
   "execution_count": 13,
   "metadata": {},
   "outputs": [],
   "source": [
    "def multiply_matrices(matrix_a : List[List[int]], matrix_b: List[List[int]]) -> List[List[int]]:\n",
    "    # Check if the matrices dimensions match\n",
    "    # FIXME: Implement the check\n",
    "    # FIXME: Implement the multiply\n",
    "\n",
    "    pass"
   ]
  },
  {
   "attachments": {},
   "cell_type": "markdown",
   "metadata": {},
   "source": [
    "Test your code"
   ]
  },
  {
   "cell_type": "code",
   "execution_count": null,
   "metadata": {},
   "outputs": [],
   "source": [
    "A = [[1, 2, 3],\n",
    "     [4, 5, 6]]\n",
    "\n",
    "B = [[7, 8],\n",
    "    [9, 10],\n",
    "    [11, 12]]\n",
    "\n",
    "result = multiply_matrices(A, B)\n",
    "print(\"A * B = \")\n",
    "pretty_print_matrix(result)\n",
    "\n",
    "expected_output = [[58, 64], [139, 154]]\n",
    "if result == expected_output:\n",
    "    print(\"\\nTest passed\")\n",
    "else:\n",
    "    print(\"\\nTest failed\")"
   ]
  },
  {
   "cell_type": "code",
   "execution_count": null,
   "metadata": {},
   "outputs": [],
   "source": [
    "# should fail because the matrices have incompatible sizes\n",
    "C = [[1, 2, 3], [4, 5, 6]]\n",
    "D = [[7, 8, 9], [10, 11, 12]]\n",
    "\n",
    "result = multiply_matrices(C, D)\n",
    "\n",
    "if result == None:\n",
    "    print(\"Test passed\")"
   ]
  },
  {
   "attachments": {},
   "cell_type": "markdown",
   "metadata": {},
   "source": [
    "### 4. Matrix Transpose\n",
    "\n",
    "Transposing a matrix involves flipping it over its diagonal, turning the matrix's row into columns and vice-versa.\\\n",
    "Implement the `transpose_matrix` function.\n",
    "\n",
    "#### Example :\n",
    "```python\n",
    "A = [[1, 2, 3],\n",
    "     [4, 5, 6]]\n",
    "\n",
    "transpose_matrix(A)\n",
    "```\n",
    "\n",
    "Output :\n",
    "```python\n",
    "[[1, 4],\n",
    "[2, 5],\n",
    "[3, 6]]\n",
    "```\n",
    "\n",
    "#### Example 2 :\n",
    "```python\n",
    "B = [[1, 2, 3],\n",
    "     [4, 5, 6],\n",
    "     [7, 8, 9]]\n",
    "\n",
    "transpose_matrix(B)\n",
    "```\n",
    "\n",
    "Output :\n",
    "```python\n",
    "[[1, 4, 7],\n",
    "[2, 5, 8],\n",
    "[3, 6, 9]]\n",
    "```"
   ]
  },
  {
   "cell_type": "code",
   "execution_count": 17,
   "metadata": {},
   "outputs": [],
   "source": [
    "def transpose_matrix(matrix : List[List[int]]) -> List[List[int]]:\n",
    "    # FIXME: Implement the transpose\n",
    "\n",
    "    pass"
   ]
  },
  {
   "attachments": {},
   "cell_type": "markdown",
   "metadata": {},
   "source": [
    "Test your code"
   ]
  },
  {
   "cell_type": "code",
   "execution_count": null,
   "metadata": {},
   "outputs": [],
   "source": [
    "A = [[1, 2, 3],\n",
    "    [4, 5, 6]]\n",
    "\n",
    "result = transpose_matrix(A)\n",
    "print(\"A^T = \")\n",
    "pretty_print_matrix(result)\n",
    "\n",
    "expected_output = [[1, 4],\n",
    "                   [2, 5],\n",
    "                   [3, 6]]\n",
    "\n",
    "if result == expected_output:\n",
    "    print(\"\\nTest passed\")\n",
    "else:\n",
    "    print(\"\\nTest failed\")"
   ]
  },
  {
   "cell_type": "code",
   "execution_count": null,
   "metadata": {},
   "outputs": [],
   "source": [
    "B = [[1, 2, 3],\n",
    "    [4, 5, 6],\n",
    "    [7, 8, 9]]\n",
    "\n",
    "result = transpose_matrix(B)\n",
    "print(\"B^T = \")\n",
    "pretty_print_matrix(result)\n",
    "\n",
    "expected_output = [[1, 4, 7],\n",
    "                   [2, 5, 8],\n",
    "                   [3, 6, 9]]  \n",
    "\n",
    "if result == expected_output:\n",
    "    print(\"\\nTest passed\")\n",
    "else:\n",
    "    print(\"\\nTest failed\")"
   ]
  },
  {
   "attachments": {},
   "cell_type": "markdown",
   "metadata": {},
   "source": [
    "## Exploring Matrix Operations with NumPy\n",
    "\n",
    "### Objective\n",
    "After implementing basic matrix operations by hand, it's essential to learn how these operations can be efficiently executed using NumPy, a fundamental package for scientific computing in Python.\n",
    "\n",
    "### Why NumPy?\n",
    "While knowing how to manually perform matrix operations deepens your understanding, in practical scenarios, especially dealing with large datasets or complex calculations, we rely on NumPy. It's optimized for speed and ease of use, offering a wide range of built-in functions for matrix operations.\n",
    "\n",
    "### Your Task\n",
    "1. **Find the Corresponding NumPy Functions**: Research and identify the NumPy functions that perform:\\\n",
    " matrix addition, subtraction, multiplication, and transposition.\n",
    "   \n",
    "2. **Compare Results**: Use NumPy to carry out the same operations on matrices you've created and compare the results with those from your implemented functions. This will not only test the correctness of your functions but also give you insight into the performance and simplicity offered by NumPy.\n",
    "\n",
    "### How to Proceed\n",
    "- Install NumPy if you haven't already, using `pip install numpy`.\n",
    "- Import NumPy in your Python script with `import numpy as np`.\n",
    "- Create matrices using NumPy arrays: `matrix_a = np.array([your_data])`.\n",
    "- Explore NumPy documentation\n",
    "\n",
    "### Reflection\n",
    "While performing this comparison, reflect on the differences in code complexity and execution time between your implementations and NumPy's functions. This exercise will illustrate why in real-world applications, especially those requiring high performance, leveraging a library like NumPy is indispensable."
   ]
  },
  {
   "attachments": {},
   "cell_type": "markdown",
   "metadata": {},
   "source": [
    "I will give you a function that generates random matrices for testing purposes.\n",
    "\n",
    "*Don't forget that comments and documentation are important for good coding practices.*"
   ]
  },
  {
   "cell_type": "code",
   "execution_count": 20,
   "metadata": {},
   "outputs": [],
   "source": [
    "import numpy as np"
   ]
  },
  {
   "cell_type": "code",
   "execution_count": 21,
   "metadata": {},
   "outputs": [],
   "source": [
    "import random\n",
    "\n",
    "def generate_random_matrix(rows: int, cols: int) -> List[List[int]]:\n",
    "    \"\"\"\n",
    "    Generates a random matrix with the given dimensions.\n",
    "    \n",
    "    Parameters:\n",
    "    - rows: The number of rows in the matrix.\n",
    "    - cols: The number of columns in the matrix.\n",
    "    \n",
    "    Returns:\n",
    "    A list of lists representing the matrix, filled with random integers between 1 and 10.\n",
    "    \"\"\"\n",
    "    result = []\n",
    "    for _ in range(rows):\n",
    "        row = []\n",
    "        for _ in range(cols):\n",
    "            row.append(random.randint(1, 10))\n",
    "        result.append(row)\n",
    "    return result\n"
   ]
  },
  {
   "cell_type": "code",
   "execution_count": 22,
   "metadata": {},
   "outputs": [
    {
     "name": "stdout",
     "output_type": "stream",
     "text": [
      "[5, 10, 3, 2]\n",
      "[8, 9, 6, 2]\n",
      "[5, 5, 7, 2]\n",
      "[1, 5, 3, 9]\n",
      "[2, 5, 8, 2]\n"
     ]
    }
   ],
   "source": [
    "random_matrix = generate_random_matrix(5, 4)\n",
    "\n",
    "pretty_print_matrix(random_matrix)"
   ]
  },
  {
   "attachments": {},
   "cell_type": "markdown",
   "metadata": {},
   "source": [
    "## Comparaison of the results"
   ]
  },
  {
   "cell_type": "code",
   "execution_count": 24,
   "metadata": {},
   "outputs": [],
   "source": [
    "# You can try to increase the dimensions to compare time results ! \n",
    "n_rows, n_cols = 300, 250\n",
    "\n",
    "A = generate_random_matrix(rows=n_rows, cols=n_cols)\n",
    "B = generate_random_matrix(rows=n_rows, cols=n_cols)\n",
    "\n",
    "# convert our List of List into numpy array\n",
    "A_np = np.array(A)\n",
    "B_np = np.array(B)"
   ]
  },
  {
   "attachments": {},
   "cell_type": "markdown",
   "metadata": {},
   "source": [
    "### Addition"
   ]
  },
  {
   "cell_type": "code",
   "execution_count": null,
   "metadata": {},
   "outputs": [],
   "source": [
    "%%time\n",
    "# Your function\n",
    "res = add_matrices(A, B)"
   ]
  },
  {
   "cell_type": "code",
   "execution_count": null,
   "metadata": {},
   "outputs": [],
   "source": [
    "%%time\n",
    "# NumPy function\n",
    "# don't forget to call the numpy function with the numpy array (A_np and B_np)\n",
    "res = #FIXME"
   ]
  },
  {
   "attachments": {},
   "cell_type": "markdown",
   "metadata": {},
   "source": [
    "### Subtraction"
   ]
  },
  {
   "cell_type": "code",
   "execution_count": null,
   "metadata": {},
   "outputs": [],
   "source": [
    "%%time\n",
    "# Your function\n",
    "res = substract_matrices(A, B)"
   ]
  },
  {
   "cell_type": "code",
   "execution_count": null,
   "metadata": {},
   "outputs": [],
   "source": [
    "%%time\n",
    "# NumPy function\n",
    "# don't forget to call the numpy function with the numpy array (A_np and B_np)\n",
    "res = #FIXME"
   ]
  },
  {
   "attachments": {},
   "cell_type": "markdown",
   "metadata": {},
   "source": [
    "### Multiply"
   ]
  },
  {
   "cell_type": "code",
   "execution_count": 26,
   "metadata": {},
   "outputs": [],
   "source": [
    "# You can try to increase the dimensions to compare time results ! \n",
    "n, m = 300, 250\n",
    "\n",
    "A = generate_random_matrix(rows=n, cols=m)\n",
    "B = generate_random_matrix(rows=m, cols=n)\n",
    "\n",
    "A_np = np.array(A)\n",
    "B_np = np.array(B)"
   ]
  },
  {
   "cell_type": "code",
   "execution_count": null,
   "metadata": {},
   "outputs": [],
   "source": [
    "%%time\n",
    "# Your function\n",
    "res = multiply_matrices(A, B)"
   ]
  },
  {
   "cell_type": "code",
   "execution_count": null,
   "metadata": {},
   "outputs": [],
   "source": [
    "%%time\n",
    "# NumPy function\n",
    "# don't forget to call the numpy function with the numpy array (A_np and B_np)\n",
    "res = #FIXME"
   ]
  },
  {
   "attachments": {},
   "cell_type": "markdown",
   "metadata": {},
   "source": [
    "### Transpose"
   ]
  },
  {
   "cell_type": "code",
   "execution_count": 112,
   "metadata": {},
   "outputs": [],
   "source": [
    "# You can try to increase the dimensions to compare time results ! \n",
    "n, m = 400, 250\n",
    "\n",
    "A = generate_random_matrix(rows=n, cols=m)\n",
    "\n",
    "A_np = np.array(A)"
   ]
  },
  {
   "cell_type": "code",
   "execution_count": null,
   "metadata": {},
   "outputs": [],
   "source": [
    "%%time\n",
    "# Your function\n",
    "res = transpose_matrix(B)"
   ]
  },
  {
   "cell_type": "code",
   "execution_count": null,
   "metadata": {},
   "outputs": [],
   "source": [
    "%%time\n",
    "# Numpy function\n",
    "# don't forget to call the numpy function with the numpy array (A_np and B_np)\n",
    "res = #FIXME"
   ]
  }
 ],
 "metadata": {
  "kernelspec": {
   "display_name": "Python 3",
   "language": "python",
   "name": "python3"
  },
  "language_info": {
   "codemirror_mode": {
    "name": "ipython",
    "version": 3
   },
   "file_extension": ".py",
   "mimetype": "text/x-python",
   "name": "python",
   "nbconvert_exporter": "python",
   "pygments_lexer": "ipython3",
   "version": "3.11.4"
  },
  "orig_nbformat": 4
 },
 "nbformat": 4,
 "nbformat_minor": 2
}
