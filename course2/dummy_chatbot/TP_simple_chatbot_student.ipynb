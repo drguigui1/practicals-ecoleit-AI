{
 "cells": [
  {
   "cell_type": "markdown",
   "metadata": {},
   "source": [
    "# My first AI Chatbot !"
   ]
  },
  {
   "cell_type": "markdown",
   "metadata": {},
   "source": [
    "## Project Goal\n",
    "\n",
    "The main objective of this TP is to develop a chatbot tailored for a school platform.\\n\n",
    "This chatbot will be designed to answer simple FAQ questions based on a set of predetermined rules.\n",
    "\n",
    "It will not use complex technologies like Machine Learning or Natural Language Processing (At least, not for today...). Instead, it will rely on **basic programming logic** and structures to understand and respond to user queries.\n",
    "\n",
    "Our chatbot will help users get the information they need quickly and efficiently, enhancing the overall experience on the school platform."
   ]
  },
  {
   "cell_type": "code",
   "execution_count": 2,
   "metadata": {},
   "outputs": [],
   "source": [
    "import pandas as pd\n",
    "from typing import List, Tuple, Dict"
   ]
  },
  {
   "cell_type": "markdown",
   "metadata": {},
   "source": [
    "## Analyse and understand the data\n",
    "\n",
    "The first step is to understand the data we are working with. We read a csv file containing the questions and answers that our chatbot will use to interact with users."
   ]
  },
  {
   "cell_type": "code",
   "execution_count": null,
   "metadata": {},
   "outputs": [],
   "source": [
    "# Load the dataset\n",
    "faq = #FIXME\n",
    "\n",
    "# print the number of questions in the dataset\n",
    "\n",
    "# Display the first 5 rows of the dataframe\n",
    "# FIXME"
   ]
  },
  {
   "cell_type": "code",
   "execution_count": null,
   "metadata": {},
   "outputs": [],
   "source": [
    "# Print the first question\n",
    "#FIXME\n",
    "# Print the first answer\n",
    "#FIXME"
   ]
  },
  {
   "cell_type": "markdown",
   "metadata": {},
   "source": [
    "### Refining the Chatbot Functionality for FAQ Automation\n",
    "\n",
    "To enhance our school's FAQ chatbot, we'll focus on fine-tuning **keyword rules**. These rules are crucial for matching user inquiries with precise answers from our FAQ list by recognizing essential terms related to queries about \"enrollment,\" \"school hours,\" and more.\n",
    "\n",
    "Below are improved guidelines for creating a more responsive and intelligent chatbot:\n",
    "\n",
    "1. **Develop a comprehensive keyword dictionary**: Populate a dictionary mapping significant keywords to corresponding FAQ queries. Prioritize inclusivity in your keywords to cover variations in user inputs.\n",
    "\n",
    "2. **Craft a smart matching function**: Create a function `get_best_matching_question` that go through the user's input to find keywords and identifies the most relevant question.\\\n",
    "Consider how to refine the function so it accurately identifies the closest match, especially when dealing with multiple similar keywords, to significantly improve the precision of the answers.\n",
    "\n",
    "3. **Implement an effective answer retrieval function**: Design a function that utilizes the outcome of the matching process (`get_best_matching_question`() ) to fetch and deliver the correct answer from the FAQ list to the user.\n"
   ]
  },
  {
   "cell_type": "code",
   "execution_count": 5,
   "metadata": {},
   "outputs": [],
   "source": [
    "keywords_dict  = {\n",
    "    \"How do I enroll my child at the school?\": [\"FIXME\", \"FIXME\", \"FIXME\"],\n",
    "    #FIXME... list all the keywords for each question\n",
    "}"
   ]
  },
  {
   "cell_type": "code",
   "execution_count": 6,
   "metadata": {},
   "outputs": [],
   "source": [
    "def get_best_matching_question(user_question: str, keywords_dict: Dict[str, List[str]]) -> str:\n",
    "    \"\"\"\n",
    "    This function returns the best matching for a given user_question based on the keywords_dict.\n",
    "    \"\"\"\n",
    "\n",
    "    #FIXME\n",
    "\n",
    "    pass\n",
    "\n",
    "def get_best_answer(question: str, keywords_dict: Dict[str, List[str]], faq: pd.DataFrame) -> str:\n",
    "    \"\"\"\n",
    "    This function returns the best answer for a given question based on the keywords_dict and the faq dataframe.\n",
    "    \"\"\"\n",
    "    #FIXME\n",
    "\n",
    "    pass"
   ]
  },
  {
   "cell_type": "markdown",
   "metadata": {},
   "source": [
    "**Ensure your keywords_dict and faq are correctly defined and populated before testing these functions.**\n"
   ]
  },
  {
   "cell_type": "code",
   "execution_count": null,
   "metadata": {},
   "outputs": [],
   "source": [
    "best_match = get_best_matching_question(\"How my kid can register to your school\", keywords_dict)\n",
    "\n",
    "# Print the best match\n",
    "# It should be \"How do I enroll my child at the school?\"\n",
    "print('Best match:', best_match)\n",
    "\n",
    "# Get the best answer\n",
    "best_answer = get_best_answer(\"How my kid can register to your school\", keywords_dict, faq)\n",
    "print('Best answer:', best_answer)"
   ]
  },
  {
   "cell_type": "markdown",
   "metadata": {},
   "source": [
    "## Checking if it's finished\n",
    "\n",
    "To verify if the chatbot is working as expected, we will test it with a few examples to see if it can understand and respond to user queries accurately.\n",
    "But before that, we need to define the keywords that will be usefull to exit the chatbot.\n",
    "\n",
    "1. Build a list of keywords to detect if the user wants to exit the chatbot.\n",
    "2. Implement a function to check if the user's input contains any exit keywords."
   ]
  },
  {
   "cell_type": "code",
   "execution_count": 19,
   "metadata": {},
   "outputs": [],
   "source": [
    "finished_keywords = ['bye', ...] #FIXME"
   ]
  },
  {
   "cell_type": "code",
   "execution_count": 9,
   "metadata": {},
   "outputs": [],
   "source": [
    "def is_finished(user_input: str, finished_keywords: List[str]) -> bool:\n",
    "    \"\"\"\n",
    "    This function checks if the user_input indicates that the conversation is finished.\n",
    "\n",
    "    Returns True if the user_input contains one of the finished_keywords, False otherwise.\n",
    "    \"\"\"\n",
    "    #FIXME\n",
    "\n",
    "    pass"
   ]
  },
  {
   "cell_type": "markdown",
   "metadata": {},
   "source": [
    "## Test the chatbot\n",
    "\n",
    "I will give you the handle function to test the chatbot. This function will simulate the chatbot's conversation with the user.\n",
    "\n",
    "It's using the functions wyoue have implemented so far, so make sure they are working as expected."
   ]
  },
  {
   "cell_type": "code",
   "execution_count": 24,
   "metadata": {},
   "outputs": [],
   "source": [
    "def handle_chat(faq):\n",
    "    \"\"\"\n",
    "    This function handles the chat with the user.\n",
    "    \"\"\"\n",
    "    while True:\n",
    "        # Get the user input\n",
    "        user_input = input(\"You: \")\n",
    "        print('You:', user_input)\n",
    "        # Check if the user wants to exit\n",
    "        if is_finished(user_input, finished_keywords):\n",
    "            print(\"Chatbot: Goodbye!\")\n",
    "            break\n",
    "        # Get the best answer\n",
    "        best_answer = get_best_answer(user_input, keywords_dict, faq)\n",
    "        # Print the best answer\n",
    "        print(\"Chatbot:\", best_answer)"
   ]
  },
  {
   "cell_type": "markdown",
   "metadata": {},
   "source": [
    "Let's test our chatbot with a few examples to see how it performs.\n",
    "\n",
    "Run the following cell to test the chatbot with a few examples."
   ]
  },
  {
   "cell_type": "code",
   "execution_count": 25,
   "metadata": {},
   "outputs": [
    {
     "name": "stdout",
     "output_type": "stream",
     "text": [
      "You: hours\n",
      "Chatbot: I'm sorry, I don't understand your question.\n",
      "You: close\n",
      "Chatbot: Our school operates from 8:00 AM to 3:00 PM, Monday through Friday.\n",
      "You: ok\n",
      "Chatbot: I'm sorry, I don't understand your question.\n",
      "You: ok\n",
      "Chatbot: I'm sorry, I don't understand your question.\n",
      "You: register\n",
      "Chatbot: You can enroll your child by visiting our school's administration office or through our online enrollment form available on the school's website.\n",
      "You: exit\n",
      "Chatbot: Goodbye!\n"
     ]
    }
   ],
   "source": [
    "handle_chat(faq)"
   ]
  }
 ],
 "metadata": {
  "kernelspec": {
   "display_name": "Python 3 (ipykernel)",
   "language": "python",
   "name": "python3"
  },
  "language_info": {
   "codemirror_mode": {
    "name": "ipython",
    "version": 3
   },
   "file_extension": ".py",
   "mimetype": "text/x-python",
   "name": "python",
   "nbconvert_exporter": "python",
   "pygments_lexer": "ipython3",
   "version": "3.9.18"
  }
 },
 "nbformat": 4,
 "nbformat_minor": 2
}
