{
 "cells": [
  {
   "cell_type": "markdown",
   "metadata": {},
   "source": [
    "# My first AI Chatbot !"
   ]
  },
  {
   "cell_type": "markdown",
   "metadata": {},
   "source": [
    "## Project Goal\n",
    "\n",
    "The main objective of this TP is to develop a chatbot tailored for a school platform.\n",
    "\n",
    "This chatbot will be designed to answer simple FAQ questions based on a set of predetermined rules.\n",
    "\n",
    "It will not use complex technologies like Machine Learning or Natural Language Processing (At least, not for today...). Instead, it will rely on **basic programming logic** and structures to understand and respond to user queries.\n",
    "\n",
    "Our chatbot will help users get the information they need quickly and efficiently, enhancing the overall experience on the school platform."
   ]
  },
  {
   "cell_type": "code",
   "execution_count": 2,
   "metadata": {},
   "outputs": [],
   "source": [
    "import pandas as pd\n",
    "from typing import List, Tuple, Dict"
   ]
  },
  {
   "cell_type": "markdown",
   "metadata": {},
   "source": [
    "## Analyse and understand the data\n",
    "\n",
    "The first step is to understand the data we are working with. We read a csv file containing the questions and answers that our chatbot will use to interact with users."
   ]
  },
  {
   "cell_type": "code",
   "execution_count": 3,
   "metadata": {},
   "outputs": [
    {
     "name": "stdout",
     "output_type": "stream",
     "text": [
      "Number of questions in the dataset: 10\n"
     ]
    },
    {
     "data": {
      "text/html": [
       "<div>\n",
       "<style scoped>\n",
       "    .dataframe tbody tr th:only-of-type {\n",
       "        vertical-align: middle;\n",
       "    }\n",
       "\n",
       "    .dataframe tbody tr th {\n",
       "        vertical-align: top;\n",
       "    }\n",
       "\n",
       "    .dataframe thead th {\n",
       "        text-align: right;\n",
       "    }\n",
       "</style>\n",
       "<table border=\"1\" class=\"dataframe\">\n",
       "  <thead>\n",
       "    <tr style=\"text-align: right;\">\n",
       "      <th></th>\n",
       "      <th>Category</th>\n",
       "      <th>Question</th>\n",
       "      <th>Answer</th>\n",
       "    </tr>\n",
       "  </thead>\n",
       "  <tbody>\n",
       "    <tr>\n",
       "      <th>0</th>\n",
       "      <td>Admissions and Enrollment</td>\n",
       "      <td>How do I enroll my child at the school?</td>\n",
       "      <td>You can enroll your child by visiting our scho...</td>\n",
       "    </tr>\n",
       "    <tr>\n",
       "      <th>1</th>\n",
       "      <td>Admissions and Enrollment</td>\n",
       "      <td>What documents are required for enrollment?</td>\n",
       "      <td>The necessary documents include a birth certif...</td>\n",
       "    </tr>\n",
       "    <tr>\n",
       "      <th>2</th>\n",
       "      <td>School Hours and Calendar</td>\n",
       "      <td>What are the school hours?</td>\n",
       "      <td>Our school operates from 8:00 AM to 3:00 PM, M...</td>\n",
       "    </tr>\n",
       "    <tr>\n",
       "      <th>3</th>\n",
       "      <td>School Hours and Calendar</td>\n",
       "      <td>When is the school closed for holidays?</td>\n",
       "      <td>The school observes all national holidays. Add...</td>\n",
       "    </tr>\n",
       "    <tr>\n",
       "      <th>4</th>\n",
       "      <td>Class Schedules</td>\n",
       "      <td>How can I find my child’s class schedule?</td>\n",
       "      <td>Class schedules are available on the school po...</td>\n",
       "    </tr>\n",
       "  </tbody>\n",
       "</table>\n",
       "</div>"
      ],
      "text/plain": [
       "                    Category                                     Question  \\\n",
       "0  Admissions and Enrollment      How do I enroll my child at the school?   \n",
       "1  Admissions and Enrollment  What documents are required for enrollment?   \n",
       "2  School Hours and Calendar                   What are the school hours?   \n",
       "3  School Hours and Calendar      When is the school closed for holidays?   \n",
       "4            Class Schedules    How can I find my child’s class schedule?   \n",
       "\n",
       "                                              Answer  \n",
       "0  You can enroll your child by visiting our scho...  \n",
       "1  The necessary documents include a birth certif...  \n",
       "2  Our school operates from 8:00 AM to 3:00 PM, M...  \n",
       "3  The school observes all national holidays. Add...  \n",
       "4  Class schedules are available on the school po...  "
      ]
     },
     "execution_count": 3,
     "metadata": {},
     "output_type": "execute_result"
    }
   ],
   "source": [
    "# Load the data\n",
    "faq = pd.read_csv('./faq.csv')\n",
    "\n",
    "# print the number of questions in the dataset\n",
    "print(f\"Number of questions in the dataset: {faq.shape[0]}\")\n",
    "\n",
    "# Display the first 5 rows of the dataframe\n",
    "faq.head(5)"
   ]
  },
  {
   "cell_type": "code",
   "execution_count": 11,
   "metadata": {},
   "outputs": [
    {
     "name": "stdout",
     "output_type": "stream",
     "text": [
      "How do I enroll my child at the school?\n",
      "You can enroll your child by visiting our school's administration office or through our online enrollment form available on the school's website.\n"
     ]
    }
   ],
   "source": [
    "# Print the first question\n",
    "print(faq['Question'].iloc[0])\n",
    "\n",
    "# Print the first answer\n",
    "print(faq['Answer'].iloc[0])"
   ]
  },
  {
   "cell_type": "markdown",
   "metadata": {},
   "source": [
    "### Refining the Chatbot Functionality for FAQ Automation\n",
    "\n",
    "To enhance our school's FAQ chatbot, we'll focus on fine-tuning **keyword rules**. These rules are crucial for matching user inquiries with precise answers from our FAQ list by recognizing essential terms related to queries about \"enrollment,\" \"school hours,\" and more.\n",
    "\n",
    "Below are improved guidelines for creating a more responsive and intelligent chatbot:\n",
    "\n",
    "1. **Develop a comprehensive keyword dictionary**: Populate a dictionary mapping significant keywords to corresponding FAQ queries. Prioritize inclusivity in your keywords to cover variations in user inputs.\n",
    "\n",
    "2. **Craft a smart matching function**: Create a function `get_best_matching_question` that go through the user's input to find keywords and identifies the most relevant question.\\\n",
    "Consider how to refine the function so it accurately identifies the closest match, especially when dealing with multiple similar keywords, to significantly improve the precision of the answers.\n",
    "\n",
    "3. **Implement an effective answer retrieval function**: Design a function that utilizes the outcome of the matching process (`get_best_matching_question`() ) to fetch and deliver the correct answer from the FAQ list to the user.\n"
   ]
  },
  {
   "cell_type": "code",
   "execution_count": 26,
   "metadata": {},
   "outputs": [],
   "source": [
    "keywords_dict  = {\n",
    "    \"How do I enroll my child at the school?\": [\"enroll\", \"child\", \"school\", \"admission\", \"application\", \"register\", \"student\"],\n",
    "    \"What documents are required for enrollment?\": [\"documents\", \"enrollment\", \"required\", \"birth certificate\", \"proof of residence\", \"school records\", \"vaccination\"],\n",
    "    \"What are the school hours?\": [\"school hours\", \"operating hours\", \"school schedule\", \"open\", \"close\", \"times\"],\n",
    "    \"When is the school closed for holidays?\": [\"school closed\", \"holidays\", \"school calendar\", \"breaks\", \"national holidays\", \"hours\", \"closed\"],\n",
    "    \"How can I find my child’s class schedule?\": [\"class schedule\", \"child\", \"find\", \"schedule\", \"school portal\", \"student ID\"],\n",
    "    \"How are grades determined?\": [\"grades\", \"determined\", \"grading\", \"classroom participation\", \"homework\", \"quizzes\", \"exams\", \"grading policy\"],\n",
    "    \"Is there a library on campus?\": [\"library\", \"campus\", \"school facilities\", \"books\", \"open\"],\n",
    "    \"What extracurricular activities are available?\": [\"extracurricular activities\", \"sports teams\", \"clubs\", \"arts programs\", \"school activities\", \"available\"],\n",
    "    \"What COVID-19 safety measures are in place?\": [\"COVID-19\", \"safety measures\", \"health guidelines\", \"mask mandates\", \"social distancing\", \"sanitization\"],\n",
    "    \"How can I contact the school office?\": [\"contact\", \"school office\", \"phone\", \"email\", \"reach out\", \"communication\"]\n",
    "}"
   ]
  },
  {
   "cell_type": "code",
   "execution_count": 13,
   "metadata": {},
   "outputs": [],
   "source": [
    "# Check if the student compute the number of keywords in the question\n",
    "# Check if the student lower cases the question and the keywords\n",
    "\n",
    "def get_best_matching_question(user_question: str, keywords_dict: Dict[str, List[str]]) -> str:\n",
    "    \"\"\"\n",
    "    This function returns the best matching for a given user_question based on the keywords_dict.\n",
    "    \"\"\"\n",
    "    best_answer = \"\"\n",
    "    best_score = 0\n",
    "    # Loop through the keywords_dict\n",
    "    for key, value in keywords_dict.items():\n",
    "        score = 0\n",
    "        # Loop through the list of keywords\n",
    "        for word in value:\n",
    "            # Check if the word is in the question\n",
    "            if word.lower() in user_question.lower():\n",
    "                score += 1\n",
    "        # If the score is higher than the best score\n",
    "        if score > best_score:\n",
    "            best_score = score\n",
    "            best_answer = key\n",
    "\n",
    "    return best_answer\n",
    "\n",
    "def get_best_answer(question: str, keywords_dict: Dict[str, List[str]], faq: pd.DataFrame) -> str:\n",
    "    \"\"\"\n",
    "    This function returns the best answer for a given question based on the keywords_dict and the faq dataframe.\n",
    "    \"\"\"\n",
    "    matching = get_best_matching_question(question, keywords_dict)\n",
    "    if matching != \"\":\n",
    "        # Get the best answer from the faq dataframe\n",
    "        answer = faq[faq['Question'] == matching]['Answer'].iloc[0]\n",
    "        return answer\n",
    "    else:\n",
    "        return \"I'm sorry, I don't understand your question.\"\n"
   ]
  },
  {
   "cell_type": "markdown",
   "metadata": {},
   "source": [
    "**Ensure your keywords_dict and faq are correctly defined and populated before testing these functions.**\n"
   ]
  },
  {
   "cell_type": "code",
   "execution_count": 14,
   "metadata": {},
   "outputs": [
    {
     "name": "stdout",
     "output_type": "stream",
     "text": [
      "Best match: How do I enroll my child at the school?\n",
      "Best answer: You can enroll your child by visiting our school's administration office or through our online enrollment form available on the school's website.\n"
     ]
    }
   ],
   "source": [
    "best_match = get_best_matching_question(\"How my kid can register to your school\", keywords_dict)\n",
    "\n",
    "# Print the best match\n",
    "# It should be \"How do I enroll my child at the school?\"\n",
    "print('Best match:', best_match)\n",
    "\n",
    "# Get the best answer\n",
    "best_answer = get_best_answer(\"How my kid can register to your school\", keywords_dict, faq)\n",
    "print('Best answer:', best_answer)"
   ]
  },
  {
   "cell_type": "markdown",
   "metadata": {},
   "source": [
    "## Checking if it's finished\n",
    "\n",
    "To verify if the chatbot is working as expected, we will test it with a few examples to see if it can understand and respond to user queries accurately.\n",
    "But before that, we need to define the keywords that will be usefull to exit the chatbot.\n",
    "\n",
    "1. Build a list of keywords to detect if the user wants to exit the chatbot.\n",
    "2. Implement a function to check if the user's input contains any exit keywords."
   ]
  },
  {
   "cell_type": "code",
   "execution_count": 19,
   "metadata": {},
   "outputs": [],
   "source": [
    "finished_keywords = ['bye', 'exit', 'goodbye', 'quit', 'done', 'stop', 'leave', 'farewell', 'later', 'bye-bye', 'goodnight', 'goodnight', 'see', 'you', 'see you', 'see u']"
   ]
  },
  {
   "cell_type": "code",
   "execution_count": 20,
   "metadata": {},
   "outputs": [],
   "source": [
    "def is_finished(user_input: str, finished_keywords: List[str]) -> bool:\n",
    "    \"\"\"\n",
    "    This function checks if the user_input indicates that the conversation is finished.\n",
    "    \"\"\"\n",
    "    # Loop through the finished_keywords\n",
    "    for word in finished_keywords:\n",
    "        # Check if the word is in the user_input\n",
    "        if word.lower() in user_input.lower():\n",
    "            return True # the conversation is finished\n",
    "    return False # the conversation is not finished"
   ]
  },
  {
   "cell_type": "markdown",
   "metadata": {},
   "source": [
    "## Test the chatbot\n",
    "\n",
    "I will give you the handle function to test the chatbot. This function will simulate the chatbot's conversation with the user.\n",
    "\n",
    "It's using the functions wyoue have implemented so far, so make sure they are working as expected."
   ]
  },
  {
   "cell_type": "code",
   "execution_count": 24,
   "metadata": {},
   "outputs": [],
   "source": [
    "def handle_chat(faq):\n",
    "    \"\"\"\n",
    "    This function handles the chat with the user.\n",
    "    \"\"\"\n",
    "    while True:\n",
    "        # Get the user input\n",
    "        user_input = input(\"You: \")\n",
    "        print('You:', user_input)\n",
    "        # Check if the user wants to exit\n",
    "        if is_finished(user_input, finished_keywords):\n",
    "            print(\"Chatbot: Goodbye!\")\n",
    "            break\n",
    "        # Get the best answer\n",
    "        best_answer = get_best_answer(user_input, keywords_dict, faq)\n",
    "        # Print the best answer\n",
    "        print(\"Chatbot:\", best_answer)"
   ]
  },
  {
   "cell_type": "markdown",
   "metadata": {},
   "source": [
    "Let's test our chatbot with a few examples to see how it performs.\n",
    "\n",
    "Run the following cell to test the chatbot with a few examples."
   ]
  },
  {
   "cell_type": "code",
   "execution_count": 25,
   "metadata": {},
   "outputs": [
    {
     "name": "stdout",
     "output_type": "stream",
     "text": [
      "You: hours\n",
      "Chatbot: I'm sorry, I don't understand your question.\n",
      "You: close\n",
      "Chatbot: Our school operates from 8:00 AM to 3:00 PM, Monday through Friday.\n",
      "You: ok\n",
      "Chatbot: I'm sorry, I don't understand your question.\n",
      "You: ok\n",
      "Chatbot: I'm sorry, I don't understand your question.\n",
      "You: register\n",
      "Chatbot: You can enroll your child by visiting our school's administration office or through our online enrollment form available on the school's website.\n",
      "You: exit\n",
      "Chatbot: Goodbye!\n"
     ]
    }
   ],
   "source": [
    "handle_chat(faq)"
   ]
  }
 ],
 "metadata": {
  "kernelspec": {
   "display_name": "Python 3 (ipykernel)",
   "language": "python",
   "name": "python3"
  },
  "language_info": {
   "codemirror_mode": {
    "name": "ipython",
    "version": 3
   },
   "file_extension": ".py",
   "mimetype": "text/x-python",
   "name": "python",
   "nbconvert_exporter": "python",
   "pygments_lexer": "ipython3",
   "version": "3.9.18"
  }
 },
 "nbformat": 4,
 "nbformat_minor": 2
}
