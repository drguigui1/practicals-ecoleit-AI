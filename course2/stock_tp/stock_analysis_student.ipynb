{
 "cells": [
  {
   "cell_type": "markdown",
   "metadata": {},
   "source": [
    "## TP stock data analysis\n",
    "\n",
    "In this project, we'll delve into the analysis of stock prices, with a focus on Apple Inc. Our goal is to understand the factors affecting its stock performance and to evaluate investment scenarios. We will use moving averages to identify trends and calculate key statistics to assess the stock's behavior. This practical exercise is designed to enhance our analytical skills and deepen our understanding of financial markets, offering us hands-on experience in real-world financial analysis."
   ]
  },
  {
   "cell_type": "markdown",
   "metadata": {},
   "source": [
    "Load the file provided using pandas\n",
    "\n",
    "file: `AAPL.csv`\n",
    "\n",
    "Do not forget to convert the date column into datetime, for this you can use the function `to_datetime`"
   ]
  },
  {
   "cell_type": "code",
   "execution_count": null,
   "metadata": {},
   "outputs": [],
   "source": [
    "!pip install plotly\n",
    "!pip install nbformat"
   ]
  },
  {
   "cell_type": "code",
   "execution_count": null,
   "metadata": {},
   "outputs": [],
   "source": [
    "# FIXME"
   ]
  },
  {
   "cell_type": "code",
   "execution_count": null,
   "metadata": {
    "scrolled": true
   },
   "outputs": [],
   "source": [
    "# FIXME"
   ]
  },
  {
   "cell_type": "markdown",
   "metadata": {},
   "source": [
    "Using plotly, plot the volume of stock traded by day\n",
    "\n",
    "You can use `line` function from plotly (check the documentation)"
   ]
  },
  {
   "cell_type": "code",
   "execution_count": null,
   "metadata": {},
   "outputs": [],
   "source": [
    "# FIXME"
   ]
  },
  {
   "cell_type": "markdown",
   "metadata": {},
   "source": [
    "Using plotly, plot the Open price for each day"
   ]
  },
  {
   "cell_type": "code",
   "execution_count": null,
   "metadata": {},
   "outputs": [],
   "source": [
    "# FIXME"
   ]
  },
  {
   "cell_type": "markdown",
   "metadata": {},
   "source": [
    "Using plotly plot the Close price for each day"
   ]
  },
  {
   "cell_type": "code",
   "execution_count": null,
   "metadata": {},
   "outputs": [],
   "source": [
    "# FIXME"
   ]
  },
  {
   "cell_type": "markdown",
   "metadata": {},
   "source": [
    "Now plot the difference between the Open price and the close price for each day"
   ]
  },
  {
   "cell_type": "code",
   "execution_count": null,
   "metadata": {},
   "outputs": [],
   "source": [
    "# FIXME"
   ]
  },
  {
   "cell_type": "code",
   "execution_count": null,
   "metadata": {},
   "outputs": [],
   "source": [
    "# FIXME"
   ]
  },
  {
   "cell_type": "markdown",
   "metadata": {},
   "source": [
    "What can you conclude from the previous Graph ?"
   ]
  },
  {
   "cell_type": "code",
   "execution_count": null,
   "metadata": {},
   "outputs": [],
   "source": [
    "# FIXME"
   ]
  },
  {
   "cell_type": "markdown",
   "metadata": {},
   "source": [
    "Using plotly plot the average Close price by month\n",
    "\n",
    "You can use `set_index` `resample` `mean`"
   ]
  },
  {
   "cell_type": "code",
   "execution_count": null,
   "metadata": {},
   "outputs": [],
   "source": [
    "# FIXME"
   ]
  },
  {
   "cell_type": "markdown",
   "metadata": {},
   "source": [
    "Do the same for each year\n",
    "\n",
    "You can use, `resample` `mean`"
   ]
  },
  {
   "cell_type": "code",
   "execution_count": null,
   "metadata": {},
   "outputs": [],
   "source": [
    "# FIXME"
   ]
  },
  {
   "cell_type": "markdown",
   "metadata": {},
   "source": [
    "Compute the average daily return\n",
    "\n",
    "you can use `pct_change` (check the documentation)"
   ]
  },
  {
   "cell_type": "code",
   "execution_count": null,
   "metadata": {},
   "outputs": [],
   "source": [
    "# FIXME"
   ]
  },
  {
   "cell_type": "markdown",
   "metadata": {},
   "source": [
    "Compute the average monthly return\n",
    "\n",
    "Here you can use `pct_change` `resample` `prod` `mean`"
   ]
  },
  {
   "cell_type": "code",
   "execution_count": null,
   "metadata": {},
   "outputs": [],
   "source": [
    "# FIXME"
   ]
  },
  {
   "cell_type": "markdown",
   "metadata": {},
   "source": [
    "Compute the average year return\n",
    "\n",
    "You can first use `pct_change` and then `resample` by year and apply the `prod`"
   ]
  },
  {
   "cell_type": "code",
   "execution_count": null,
   "metadata": {},
   "outputs": [],
   "source": [
    "# FIXME"
   ]
  },
  {
   "cell_type": "markdown",
   "metadata": {},
   "source": [
    "In this exercise, you'll analyze the volatility of a stock's prices by computing the standard deviation of its daily returns over a rolling window. Volatility is a statistical measure of the dispersion of returns for a given security or market index, and understanding it is crucial for assessing the risk associated with investing in the stock.\n",
    "\n",
    "Objectives:\n",
    "\n",
    "- Calculate Daily Returns: Compute the percentage change in the stock's closing price from one day to the next to obtain daily returns.\n",
    "\n",
    "- Determine Rolling Volatility: Apply a rolling window (e.g., 30 days) to these daily returns and calculate the standard deviation within each window. This rolling standard deviation represents the stock's volatility over time.\n",
    "\n",
    "- Plot Volatility: Use Plotly to create a line graph displaying the volatility of the stock. This visualization will help you understand how the stock's risk level changes over the period under analysis.\n",
    "\n",
    "\n",
    "You can use:\n",
    "`pct_change`\n",
    "`rolling`\n",
    "`std`"
   ]
  },
  {
   "cell_type": "code",
   "execution_count": null,
   "metadata": {
    "scrolled": true
   },
   "outputs": [],
   "source": [
    "# FIXME"
   ]
  },
  {
   "cell_type": "markdown",
   "metadata": {},
   "source": [
    "Now load the file with Brent data and plot the information using plotly\n",
    "\n",
    "Do not forget to convert the date column into datetime"
   ]
  },
  {
   "cell_type": "code",
   "execution_count": null,
   "metadata": {},
   "outputs": [],
   "source": [
    "# FIXME"
   ]
  },
  {
   "cell_type": "code",
   "execution_count": null,
   "metadata": {},
   "outputs": [],
   "source": [
    "# FIXME"
   ]
  },
  {
   "cell_type": "markdown",
   "metadata": {},
   "source": [
    "Now we are going to merge both dataframes\n",
    "\n",
    "You can use:\n",
    "\n",
    "- `set_index` to put the date into the index of your dataframe\n",
    "- `resample('D')`\n",
    "- `ffill()`\n",
    "- `pd.merge` (left merge)"
   ]
  },
  {
   "cell_type": "code",
   "execution_count": null,
   "metadata": {},
   "outputs": [],
   "source": [
    "# FIXME"
   ]
  },
  {
   "cell_type": "code",
   "execution_count": null,
   "metadata": {
    "scrolled": false
   },
   "outputs": [],
   "source": [
    "# FIXME"
   ]
  },
  {
   "cell_type": "markdown",
   "metadata": {},
   "source": [
    "Now we are going to compute some investments scenarios"
   ]
  },
  {
   "cell_type": "markdown",
   "metadata": {},
   "source": [
    "If you had invested 1000 euros 15 years ago on apple, what would be the current valuation of your stock ?\n",
    "\n",
    "Use the Adj Close price\n",
    "\n",
    "You can also use `datetime.now()` to get the current date\n",
    "\n",
    "Display also the total gain in percentage (the total return)\n",
    "\n",
    "- First apply some filtering to get you dataframe with the last 15 years\n",
    "\n",
    "- Now extract the start price and the end price\n",
    "\n",
    "- Compute the total valuation of the stock and compute the return in percentage"
   ]
  },
  {
   "cell_type": "code",
   "execution_count": null,
   "metadata": {},
   "outputs": [],
   "source": [
    "# FIXME"
   ]
  },
  {
   "cell_type": "code",
   "execution_count": null,
   "metadata": {},
   "outputs": [],
   "source": [
    "# FIXME"
   ]
  },
  {
   "cell_type": "markdown",
   "metadata": {},
   "source": [
    "If you had invested 100 euros each month on apple during the last 15 years, what would be the current valuation of your stock ?\n",
    "\n",
    "You can use the functions: `resample('M')`\n",
    "\n",
    "Display also:\n",
    "- the total money invested\n",
    "- the total return in percentage"
   ]
  },
  {
   "cell_type": "code",
   "execution_count": null,
   "metadata": {},
   "outputs": [],
   "source": [
    "# FIXME"
   ]
  },
  {
   "cell_type": "markdown",
   "metadata": {},
   "source": [
    "if you had invested 1200 euros each year on apple during the last 15 years, what would be:\n",
    "\n",
    "- The total value of you stocks\n",
    "- Your gain\n",
    "- You ROI (return on investment) in percentage"
   ]
  },
  {
   "cell_type": "code",
   "execution_count": null,
   "metadata": {},
   "outputs": [],
   "source": [
    "# FIXME"
   ]
  },
  {
   "cell_type": "markdown",
   "metadata": {},
   "source": [
    "What can you conclude ?\n",
    "\n",
    "Was it better to invest 1200 euros each year or 100 euros each month on Apple ?"
   ]
  }
 ],
 "metadata": {
  "kernelspec": {
   "display_name": "env-teaching",
   "language": "python",
   "name": "env-teaching"
  },
  "language_info": {
   "codemirror_mode": {
    "name": "ipython",
    "version": 3
   },
   "file_extension": ".py",
   "mimetype": "text/x-python",
   "name": "python",
   "nbconvert_exporter": "python",
   "pygments_lexer": "ipython3",
   "version": "3.11.5"
  }
 },
 "nbformat": 4,
 "nbformat_minor": 2
}
